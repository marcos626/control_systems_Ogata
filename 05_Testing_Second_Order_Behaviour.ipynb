{
  "cells": [
    {
      "cell_type": "markdown",
      "metadata": {
        "id": "view-in-github",
        "colab_type": "text"
      },
      "source": [
        "<a href=\"https://colab.research.google.com/github/marcos626/control_systems_Ogata/blob/master/05_Testing_Second_Order_Behaviour.ipynb\" target=\"_parent\"><img src=\"https://colab.research.google.com/assets/colab-badge.svg\" alt=\"Open In Colab\"/></a>"
      ]
    },
    {
      "cell_type": "markdown",
      "metadata": {
        "id": "mi-LMaYD_r0g"
      },
      "source": [
        "# Welcome to Control in Python\n",
        "#### author: Juan M. Acevedo-Valle\n",
        "#### date: 13/Mar/2018\n",
        "## Second order system response"
      ]
    },
    {
      "cell_type": "code",
      "execution_count": null,
      "metadata": {
        "id": "Fw9_cH2U_r0l"
      },
      "outputs": [],
      "source": [
        "%matplotlib inline\n",
        "# Import libraries we will be using in this session\n",
        "import control\n",
        "from control import tf\n",
        "import matplotlib\n",
        "import numpy as np\n",
        "import pylab as plt\n",
        "matplotlib.rcParams['figure.figsize'] = (8.0,6.0)\n",
        "matplotlib.rcParams.update({'font.size': 12, 'font.weight': 'bold'})"
      ]
    },
    {
      "cell_type": "code",
      "execution_count": null,
      "metadata": {
        "id": "Or6iRBPa_r0o",
        "outputId": "2f605398-fcaf-4ea0-c8d2-552c5b5affe0"
      },
      "outputs": [
        {
          "name": "stdout",
          "output_type": "stream",
          "text": [
            "\n",
            "       375\n",
            "----------------\n",
            "s^2 + 34 s + 375\n",
            "\n"
          ]
        }
      ],
      "source": [
        "#Input the system to be tested\n",
        "G_cl=tf([375],[1,34,375])\n",
        "print(G_cl)"
      ]
    },
    {
      "cell_type": "code",
      "execution_count": null,
      "metadata": {
        "id": "G25cKFfR_r0q",
        "outputId": "7cb5c759-c436-4c78-ca0e-e73bddbaeef3"
      },
      "outputs": [
        {
          "data": {
            "image/png": "[encoded data removed]",
            "text/plain": [
              "<Figure size 432x288 with 1 Axes>"
            ]
          },
          "metadata": {
            "needs_background": "light"
          },
          "output_type": "display_data"
        }
      ],
      "source": [
        "#Obtain the response to be analyzed\n",
        "T = np.linspace(0,0.4,num=1000000)\n",
        "T, y_step = control.step_response(G_cl, T)\n",
        "plt.plot(T,y_step)\n",
        "plt.xlabel('Time [s]',weight='bold')\n",
        "plt.ylabel(' c(t)',weight='bold')\n",
        "plt.xlim(0,max(T))\n",
        "plt.ylim([0,1.01])\n",
        "plt.grid(True)"
      ]
    },
    {
      "cell_type": "code",
      "execution_count": null,
      "metadata": {
        "id": "LCHNbIBc_r0r",
        "outputId": "156dfba3-3fac-456b-d8ac-422ab27e00d6"
      },
      "outputs": [
        {
          "name": "stdout",
          "output_type": "stream",
          "text": [
            "0.2849166849166849\n"
          ]
        }
      ],
      "source": [
        "#Check Rise time\n",
        "tr = T[np.where(y_step>1)][0]\n",
        "print(tr)"
      ]
    },
    {
      "cell_type": "code",
      "execution_count": null,
      "metadata": {
        "id": "D47h5lDP_r0s",
        "outputId": "0cf42d4f-666f-42e9-9593-7f2fed4815b3"
      },
      "outputs": [
        {
          "name": "stdout",
          "output_type": "stream",
          "text": [
            "0.3387667387667388\n"
          ]
        }
      ],
      "source": [
        "#Check Peak Time\n",
        "tp = T[np.argmax(y_step)]\n",
        "print(tp)"
      ]
    },
    {
      "cell_type": "code",
      "execution_count": null,
      "metadata": {
        "id": "PPRtCKkU_r0v",
        "outputId": "acba9fdb-5f2f-4eb8-92b6-853daff29052"
      },
      "outputs": [
        {
          "name": "stdout",
          "output_type": "stream",
          "text": [
            "0.0031541601265605568\n"
          ]
        }
      ],
      "source": [
        "#Check Mp\n",
        "Mp = np.max(y_step)-1\n",
        "print(Mp)"
      ]
    },
    {
      "cell_type": "code",
      "execution_count": null,
      "metadata": {
        "id": "h4SKeYVW_r0x",
        "outputId": "4b059347-2f34-4f44-c8b8-30d126ae6c77"
      },
      "outputs": [
        {
          "name": "stdout",
          "output_type": "stream",
          "text": [
            "0.19952419952419953\n"
          ]
        }
      ],
      "source": [
        "#Check settling time\n",
        "set_low = list(np.where(y_step>0.95)[0])\n",
        "set_high = list(np.where(y_step<1.05)[0])\n",
        "ts=0\n",
        "\n",
        "try:\n",
        "    for i in range(0,-len(T),-1):\n",
        "        if set_low[i] is not set_high[i]:\n",
        "            ts = T[i+1]\n",
        "            continue\n",
        "except:\n",
        "    if len(set_low)>len(set_high):\n",
        "        ts=T[set_low[i+1]]\n",
        "    else:\n",
        "        ts=T[set_high[i+1]]\n",
        "print(ts)"
      ]
    },
    {
      "cell_type": "code",
      "execution_count": null,
      "metadata": {
        "id": "2O3M-Zkz_r0y",
        "outputId": "ef1e0a18-0d7b-42a9-a492-20cfe407b621"
      },
      "outputs": [
        {
          "data": {
            "image/png": "[encoded data removed]",
            "text/plain": [
              "<Figure size 432x288 with 1 Axes>"
            ]
          },
          "metadata": {
            "needs_background": "light"
          },
          "output_type": "display_data"
        }
      ],
      "source": [
        "G = tf([89.96256],[1,10.666,89.96256])\n",
        "T = np.linspace(0,1,num=1000)\n",
        "T,y_step = control.step_response(G,T)\n",
        "y_step = 127 * y_step\n",
        "plt.plot(T,y_step)\n",
        "plt.xlabel('Time [s]',weight='bold')\n",
        "plt.ylabel(' c(t)',weight='bold')\n",
        "plt.xlim([0,1])\n",
        "plt.ylim([0,145])\n",
        "plt.grid(True)"
      ]
    },
    {
      "cell_type": "code",
      "execution_count": null,
      "metadata": {
        "id": "KT3wrTQ4_r00",
        "outputId": "09d771b4-f09d-4026-b544-0d607b319c3a"
      },
      "outputs": [
        {
          "data": {
            "text/plain": [
              "[<matplotlib.lines.Line2D at 0x7fe086a1ce50>]"
            ]
          },
          "execution_count": 9,
          "metadata": {},
          "output_type": "execute_result"
        },
        {
          "data": {
            "image/png": "[encoded data removed]",
            "text/plain": [
              "<Figure size 432x288 with 1 Axes>"
            ]
          },
          "metadata": {
            "needs_background": "light"
          },
          "output_type": "display_data"
        }
      ],
      "source": [
        "# Response of system as a result of a system decomposition\n",
        "#High order systems\n",
        "#Fot the system Gt =\n",
        "#       s^2 + 31 s + 23\n",
        "# --------------------------\n",
        "# s^3 + 38 s^2 + 255 s + 120\n",
        "G1=tf([1],[1,30,15])\n",
        "G2=tf([1],[1,8])\n",
        "Gt = control.parallel(G1,G2)\n",
        "T=np.linspace(1,10,num=1000)\n",
        "T, y_G1 = control.step_response(G1,T)\n",
        "T, y_G2 = control.step_response(G2,T)\n",
        "T, y_Gt = control.step_response(Gt,T)\n",
        "plt.plot(T,y_G1,'--b')\n",
        "plt.plot(T,y_G2,'--r')\n",
        "plt.plot(T,y_Gt,'k')\n",
        "plt.plot(T,y_G1+y_G2,'--g')"
      ]
    }
  ],
  "metadata": {
    "kernelspec": {
      "display_name": "Python 2",
      "language": "python",
      "name": "python2"
    },
    "language_info": {
      "codemirror_mode": {
        "name": "ipython",
        "version": 2
      },
      "file_extension": ".py",
      "mimetype": "text/x-python",
      "name": "python",
      "nbconvert_exporter": "python",
      "pygments_lexer": "ipython2",
      "version": "2.7.12"
    },
    "colab": {
      "provenance": [],
      "include_colab_link": true
    }
  },
  "nbformat": 4,
  "nbformat_minor": 0
}