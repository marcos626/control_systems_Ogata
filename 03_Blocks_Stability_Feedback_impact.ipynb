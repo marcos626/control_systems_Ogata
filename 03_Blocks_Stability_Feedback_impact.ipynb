{
  "cells": [
    {
      "cell_type": "markdown",
      "metadata": {
        "id": "view-in-github",
        "colab_type": "text"
      },
      "source": [
        "<a href=\"https://colab.research.google.com/github/marcos626/control_systems_Ogata/blob/master/03_Blocks_Stability_Feedback_impact.ipynb\" target=\"_parent\"><img src=\"https://colab.research.google.com/assets/colab-badge.svg\" alt=\"Open In Colab\"/></a>"
      ]
    },
    {
      "cell_type": "markdown",
      "metadata": {
        "id": "64tmXX71-AOy"
      },
      "source": [
        "# Block Diagrams, Stability and Feedback"
      ]
    },
    {
      "cell_type": "markdown",
      "metadata": {
        "id": "D2NTFi8d-AO0"
      },
      "source": [
        "### author: Juan Manuel Acevedo Valle\n",
        "### date: 10/12/2018"
      ]
    },
    {
      "cell_type": "code",
      "execution_count": null,
      "metadata": {
        "id": "-o0gK2dI-AO0"
      },
      "outputs": [],
      "source": [
        "%matplotlib inline\n",
        "\n",
        "# Import libraries we will be using in this session\n",
        "import control\n",
        "from control import ss, tf, series, feedback\n",
        "import matplotlib\n",
        "import numpy as np\n",
        "from matplotlib import pyplot as plt\n",
        "\n",
        "matplotlib.rcParams['figure.figsize'] = (16.0,6.0)\n",
        "matplotlib.rcParams.update({'font.size': 12, 'font.weight': 'bold'})"
      ]
    },
    {
      "cell_type": "code",
      "execution_count": null,
      "metadata": {
        "id": "9UvuxBuT-AO2",
        "outputId": "a9110fa1-1e37-4784-e6a3-e34293934458"
      },
      "outputs": [
        {
          "name": "stdout",
          "output_type": "stream",
          "text": [
            "\n",
            "          -20\n",
            "-----------------------\n",
            "s^3 + 5 s^2 - 16 s - 20\n",
            "\n"
          ]
        }
      ],
      "source": [
        "# series, parallel, feedback\n",
        "K = -1\n",
        "K_h = 1.\n",
        "tf_K = tf([K],[1.])\n",
        "tf_K_h = tf([K_h],[1.])\n",
        "tf_11 = tf([20.],[1.,1.])\n",
        "tf_12 = tf([1.],[1.,4.])\n",
        "tf_2 = tf([1.],[1.,0])\n",
        "\n",
        "tf_total = feedback(series(feedback(series(series(tf_K,tf_11),tf_12),tf_K_h),tf_2),1)\n",
        "print(tf_total)"
      ]
    },
    {
      "cell_type": "code",
      "execution_count": null,
      "metadata": {
        "id": "g61qybF7-AO3",
        "outputId": "f516a9e0-4670-46a0-bf50-d70cddbb9204"
      },
      "outputs": [
        {
          "name": "stdout",
          "output_type": "stream",
          "text": [
            "[-6.89897949  2.89897949 -1.        ]\n",
            "[-6.89897949  2.89897949 -1.        ]\n"
          ]
        }
      ],
      "source": [
        "# Determine stability\n",
        "print(control.pole(tf_total))\n",
        "\n",
        "\n",
        "P = tf_total.den[0][0]\n",
        "print(np.roots(P))"
      ]
    },
    {
      "cell_type": "code",
      "execution_count": null,
      "metadata": {
        "id": "iYIl6-ln-AO3",
        "outputId": "0987909c-d705-4dae-cff6-94717cf5b334"
      },
      "outputs": [
        {
          "name": "stdout",
          "output_type": "stream",
          "text": [
            "A = [[ -5.   -1.6   2. ]\n",
            " [-10.    0.    0. ]\n",
            " [  0.   -1.    0. ]]\n",
            "\n",
            "B = [[-1.]\n",
            " [ 0.]\n",
            " [ 0.]]\n",
            "\n",
            "C = [[0. 0. 2.]]\n",
            "\n",
            "D = [[0.]]\n",
            "\n",
            "[-6.89897949  2.89897949 -1.        ]\n"
          ]
        }
      ],
      "source": [
        "# Stability in from eigenvalues\n",
        "ss = control.tf2ss(tf_total)\n",
        "print(ss)\n",
        "print(np.linalg.eigvals(ss.A))"
      ]
    },
    {
      "cell_type": "code",
      "execution_count": null,
      "metadata": {
        "id": "6DMJZNm_-AO4",
        "outputId": "166188bc-0ffc-4d39-90cb-6d496cef5172"
      },
      "outputs": [
        {
          "data": {
            "image/png": "[encoded data removed]",
            "text/plain": [
              "<Figure size 432x288 with 1 Axes>"
            ]
          },
          "metadata": {
            "needs_background": "light"
          },
          "output_type": "display_data"
        }
      ],
      "source": [
        "# The location of the routs of a system depends on the closedloop gain\n",
        "# series, parallel, feedback\n",
        "K = np.linspace(-5.,5.,500)\n",
        "K_h = [0.001] #np.linspace(0.,5.,50)\n",
        "for k in K:\n",
        "    for k_h in K_h:\n",
        "        tf_K = tf([k],[1.])\n",
        "        tf_K_h = tf([k_h],[1.])\n",
        "        tf_11 = tf([20.],[1.,1.])\n",
        "        tf_12 = tf([1.],[1.,4.])\n",
        "        tf_2 = tf([1.],[1.,0])\n",
        "        tf_total = feedback(series(feedback(series(series(tf_K,tf_11),tf_12),tf_K_h),tf_2),1)\n",
        "        poles = control.pole(tf_total)\n",
        "        for pole, point in zip(poles,['r','b','k']):\n",
        "            plt.scatter(np.real(pole),np.imag(pole),color=point,marker='.')\n",
        "        plt.grid(True)"
      ]
    },
    {
      "cell_type": "code",
      "execution_count": null,
      "metadata": {
        "scrolled": false,
        "id": "tzMZGcML-AO6",
        "outputId": "50500248-d055-4eb2-ce1a-b0547fee43d9",
        "colab": {
          "referenced_widgets": [
            "267d27aa067c4d96ba82190c02f5f1e1"
          ]
        }
      },
      "outputs": [
        {
          "data": {
            "application/vnd.jupyter.widget-view+json": {
              "model_id": "267d27aa067c4d96ba82190c02f5f1e1",
              "version_major": 2,
              "version_minor": 0
            },
            "text/plain": [
              "aW50ZXJhY3RpdmUoY2hpbGRyZW49KEZsb2F0U2xpZGVyKHZhbHVlPTAuMCwgZGVzY3JpcHRpb249dSdLJywgbWF4PTMuMCwgbWluPS0zLjAsIHN0ZXA9MC4wMiksIEZsb2F0U2xpZGVyKHZhbHXigKY=\n"
            ]
          },
          "metadata": {},
          "output_type": "display_data"
        }
      ],
      "source": [
        "from ipywidgets import *\n",
        "\n",
        "visited_x=[]\n",
        "visited_y=[]\n",
        "def f(K,K_h):\n",
        "    global visited_x\n",
        "    global visited_y\n",
        "    tf_K = tf([K],[1.])\n",
        "    tf_K_h = tf([K_h],[1.])\n",
        "    tf_11 = tf([20.],[1.,1.])\n",
        "    tf_12 = tf([1.],[1.,4.])\n",
        "    tf_2 = tf([1.],[1.,0])\n",
        "    tf_total = feedback(series(feedback(series(series(tf_K,tf_11),tf_12),tf_K_h),tf_2),1)\n",
        "    poles = control.pole(tf_total)\n",
        "    visited_x += list(np.real(poles))\n",
        "    visited_y += list(np.imag(poles))\n",
        "    plt.plot(visited_x,visited_y,'.')\n",
        "    try:\n",
        "        if np.any(np.real(poles)>0):\n",
        "            plt.plot(visited_x[-3:],visited_y[-3:],'xr',ms=10.0, mew=6.0)\n",
        "        else:\n",
        "            plt.plot(visited_x[-3:],visited_y[-3:],'xg',ms=10.0, mew=6.0)\n",
        "    except:\n",
        "        plt.plot(visited_x,visited_y,'xb')\n",
        "    plt.xlabel(\"Real $Re$\")\n",
        "    plt.ylabel(\"Imag $Im$\")\n",
        "    plt.xlim([-20.,20.])\n",
        "    plt.ylim([-60.,60.])\n",
        "    plt.grid(True)\n",
        "    plt.title(\"Root locus\")\n",
        "#     print(poles)\n",
        "    for pole in poles:\n",
        "        plt.text(np.real(pole) - 0,np.imag(pole) - 4, str(round(np.real(pole),2)), fontsize = 12, horizontalalignment='center', verticalalignment='center')\n",
        "    plt.show()\n",
        "\n",
        "interactive_plot = interactive(f, K=(-3.,3.,0.02), K_h=(0.,5.,0.02))\n",
        "output = interactive_plot.children[-1]\n",
        "output.layout.height = '500px'\n",
        "interactive_plot"
      ]
    }
  ],
  "metadata": {
    "kernelspec": {
      "display_name": "Python 2",
      "language": "python",
      "name": "python2"
    },
    "language_info": {
      "codemirror_mode": {
        "name": "ipython",
        "version": 2
      },
      "file_extension": ".py",
      "mimetype": "text/x-python",
      "name": "python",
      "nbconvert_exporter": "python",
      "pygments_lexer": "ipython2",
      "version": "2.7.12"
    },
    "colab": {
      "provenance": [],
      "include_colab_link": true
    }
  },
  "nbformat": 4,
  "nbformat_minor": 0
}