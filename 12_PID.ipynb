{
  "cells": [
    {
      "cell_type": "markdown",
      "metadata": {
        "id": "view-in-github",
        "colab_type": "text"
      },
      "source": [
        "<a href=\"https://colab.research.google.com/github/marcos626/control_systems_Ogata/blob/master/12_PID.ipynb\" target=\"_parent\"><img src=\"https://colab.research.google.com/assets/colab-badge.svg\" alt=\"Open In Colab\"/></a>"
      ]
    },
    {
      "cell_type": "code",
      "execution_count": null,
      "metadata": {
        "collapsed": true,
        "id": "G3QZE9YeA-_-"
      },
      "outputs": [],
      "source": [
        "%matplotlib inline\n",
        "import control\n",
        "import matplotlib\n",
        "import pylab as plt\n",
        "import numpy as np"
      ]
    },
    {
      "cell_type": "code",
      "execution_count": null,
      "metadata": {
        "id": "him-SUa-A_AC",
        "outputId": "9a801746-b52c-4ce2-8efe-b111ac982b3b"
      },
      "outputs": [
        {
          "name": "stdout",
          "output_type": "stream",
          "text": [
            "\n",
            "           1\n",
            "-----------------------\n",
            "s^3 + 8 s^2 + 17 s + 10\n",
            "\n"
          ]
        }
      ],
      "source": [
        "den = np.convolve([1,1],[1,2])\n",
        "den = np.convolve(den,[1,5])\n",
        "G = control.tf([1],den)\n",
        "print(G)"
      ]
    },
    {
      "cell_type": "code",
      "execution_count": null,
      "metadata": {
        "id": "7Sc4JQUwA_AF",
        "outputId": "3a6b8eb8-4f11-44b5-a7eb-8c20bae9fbe5"
      },
      "outputs": [
        {
          "data": {
            "text/plain": [
              "[<matplotlib.lines.Line2D at 0x7fdfe93d1b10>]"
            ]
          },
          "execution_count": 3,
          "metadata": {},
          "output_type": "execute_result"
        },
        {
          "data": {
            "image/png": "[encoded data removed]",
            "text/plain": [
              "<matplotlib.figure.Figure at 0x7fdfeba3c090>"
            ]
          },
          "metadata": {},
          "output_type": "display_data"
        }
      ],
      "source": [
        "T = np.linspace(0,4,100)\n",
        "T, y_step = control.step_response(G,T)\n",
        "plt.plot(T,y_step)"
      ]
    },
    {
      "cell_type": "code",
      "execution_count": null,
      "metadata": {
        "id": "WS59vKPCA_AI",
        "outputId": "5aa8adcf-458e-46ad-da1f-21ed647e66e7"
      },
      "outputs": [
        {
          "name": "stdout",
          "output_type": "stream",
          "text": [
            "-0.017045264977609595\n",
            "0.047519245474076155\n",
            "0.9292929292929294\n"
          ]
        },
        {
          "data": {
            "image/png": "[encoded data removed]",
            "text/plain": [
              "<matplotlib.figure.Figure at 0x7fdfe92eec10>"
            ]
          },
          "metadata": {},
          "output_type": "display_data"
        }
      ],
      "source": [
        "def plot_line(m,b,X):\n",
        "    y = [m*x + b for x in X ]\n",
        "    plt.plot(X,y)\n",
        "    return y,X\n",
        "dy_step = np.gradient(y_step,T)\n",
        "dy2_step = np.gradient(np.gradient(y_step,T),T)\n",
        "min_arg_y_step = np.argmin(np.absolute(dy2_step))\n",
        "plt.plot(T,y_step)\n",
        "plt.plot(T[min_arg_y_step],y_step[min_arg_y_step],'xr')\n",
        "yi = y_step[min_arg_y_step]\n",
        "xi = T[min_arg_y_step]\n",
        "m = dy_step[min_arg_y_step]\n",
        "b = -m*xi+yi\n",
        "print(b)\n",
        "print(m)\n",
        "print(T[min_arg_y_step])\n",
        "# plt.plot(T,dy_step,'r')\n",
        "# plt.plot(T,dy2_step,'g')\n",
        "y_line, T_line = plot_line(m,b,T)\n",
        "plt.ylim([0,0.1])\n",
        "\n",
        "\n",
        "T_foo, y_step = control.step_response(G,np.linspace(0,8,100))"
      ]
    },
    {
      "cell_type": "code",
      "execution_count": null,
      "metadata": {
        "id": "_qAfEnb7A_AJ",
        "outputId": "9b84d12b-e1a9-4268-cf47-8e7128d783b6"
      },
      "outputs": [
        {
          "name": "stdout",
          "output_type": "stream",
          "text": [
            "0.36363636363636365\n",
            "2.4242424242424243\n"
          ]
        }
      ],
      "source": [
        "T_1 = len(y_line)-1\n",
        "for i in range(len(y_line)-1,-1,-1):\n",
        "    if y_line[i]<y_step[-1]:\n",
        "        break\n",
        "    T_1 -= 1\n",
        "\n",
        "T_0 = 0\n",
        "for i in range(len(y_line)):\n",
        "    if y_line[i]>y_step[0]:\n",
        "        break\n",
        "    T_0 += 1\n",
        "print T_line[T_0]\n",
        "print T_line[T_1]\n",
        "\n",
        "L = T_line[T_0]\n",
        "T = T_line[T_1]-T_line[T_0]\n",
        "Kp = 1.2 * T/L\n",
        "Ti = 2 * L\n",
        "Td = 0.5*L"
      ]
    },
    {
      "cell_type": "code",
      "execution_count": null,
      "metadata": {
        "id": "jN_hfwirA_AL",
        "outputId": "fb6a509c-9201-4b76-8e13-9b21a89de611"
      },
      "outputs": [
        {
          "name": "stdout",
          "output_type": "stream",
          "text": [
            "\n",
            "0.8992 s^2 + 4.945 s + 6.8\n",
            "--------------------------\n",
            "         0.7273 s\n",
            "\n",
            "[-2.75000004 -2.74999996]\n",
            "\n",
            "            0.8992 s^2 + 4.945 s + 6.8\n",
            "--------------------------------------------------\n",
            "0.7273 s^4 + 5.818 s^3 + 13.26 s^2 + 12.22 s + 6.8\n",
            "\n"
          ]
        },
        {
          "data": {
            "text/plain": [
              "[<matplotlib.lines.Line2D at 0x7fdfe91526d0>]"
            ]
          },
          "execution_count": 8,
          "metadata": {},
          "output_type": "execute_result"
        },
        {
          "data": {
            "image/png": "[encoded data removed]",
            "text/plain": [
              "<matplotlib.figure.Figure at 0x7fdfe90d4c10>"
            ]
          },
          "metadata": {},
          "output_type": "display_data"
        }
      ],
      "source": [
        "GKp = control.tf([Kp],[1])\n",
        "GKi = control.tf([Kp],[Ti,0])\n",
        "GKd = control.tf([Kp*Td, 0],[1])\n",
        "Gc = control.parallel(GKp,control.parallel(GKi,GKd))\n",
        "print(Gc)\n",
        "print(Gc.zero())\n",
        "GHcl = control.feedback(control.series(Gc,G))\n",
        "print(GHcl)\n",
        "T = np.linspace(0,8,1000)\n",
        "T, y_cl_step = control.step_response(GHcl,T)\n",
        "plt.plot(T,y_cl_step)"
      ]
    },
    {
      "cell_type": "code",
      "execution_count": null,
      "metadata": {
        "id": "4yLEiEJUA_AN",
        "outputId": "2db42156-0b19-469f-f6dc-03fa9f68e1de"
      },
      "outputs": [
        {
          "name": "stdout",
          "output_type": "stream",
          "text": [
            "\n",
            "         1\n",
            "------------------\n",
            "s^3 + 7 s^2 + 10 s\n",
            "\n",
            "\n",
            "           70\n",
            "-----------------------\n",
            "s^3 + 7 s^2 + 10 s + 70\n",
            "\n"
          ]
        },
        {
          "data": {
            "text/plain": [
              "[<matplotlib.lines.Line2D at 0x7fdfe901c610>]"
            ]
          },
          "execution_count": 9,
          "metadata": {},
          "output_type": "execute_result"
        },
        {
          "data": {
            "image/png": "[encoded data removed]",
            "text/plain": [
              "<matplotlib.figure.Figure at 0x7fdfe9262c50>"
            ]
          },
          "metadata": {},
          "output_type": "display_data"
        }
      ],
      "source": [
        "den = np.convolve([1,0],[1,2])\n",
        "den = np.convolve(den,[1,5])\n",
        "G = control.tf([1],den)\n",
        "print(G)\n",
        "\n",
        "Kcr = 70\n",
        "Gcr = control.tf([Kcr],[1])\n",
        "GHcl = control.feedback(control.series(Gcr,G),1)\n",
        "print(GHcl)\n",
        "\n",
        "T = np.linspace(0,10,100)\n",
        "T,y_step = control.step_response(GHcl,T)\n",
        "plt.plot(T,y_step)"
      ]
    },
    {
      "cell_type": "code",
      "execution_count": null,
      "metadata": {
        "id": "Nh43RlxsA_AP",
        "outputId": "515dceab-00ea-4dd1-d6f6-39253a7cfad5"
      },
      "outputs": [
        {
          "name": "stdout",
          "output_type": "stream",
          "text": [
            "\n",
            "10.36 s^2 + 41.73 s + 42\n",
            "------------------------\n",
            "        0.9935 s\n",
            "\n",
            "[-2.01316848 -2.01316848]\n",
            "[0.]\n"
          ]
        },
        {
          "data": {
            "text/plain": [
              "[<matplotlib.lines.Line2D at 0x7fdfe8fc55d0>]"
            ]
          },
          "execution_count": 10,
          "metadata": {},
          "output_type": "execute_result"
        },
        {
          "data": {
            "image/png": "[encoded data removed]",
            "text/plain": [
              "<matplotlib.figure.Figure at 0x7fdfe9362250>"
            ]
          },
          "metadata": {},
          "output_type": "display_data"
        }
      ],
      "source": [
        "omegacr = np.sqrt(10)\n",
        "Pcr = 2*np.pi / omegacr\n",
        "\n",
        "Kp = 0.6*Kcr\n",
        "Ti = 0.5*Pcr\n",
        "Td = 0.125*Pcr\n",
        "\n",
        "GKp = control.tf([Kp],[1])\n",
        "GKi = control.tf([Kp],[Ti,0])\n",
        "GKd = control.tf([Kp*Td, 0],[1])\n",
        "Gc = control.parallel(GKp,control.parallel(GKi,GKd))\n",
        "print(Gc)\n",
        "print(Gc.zero())\n",
        "print(Gc.pole())\n",
        "\n",
        "GHcl = control.feedback(control.series(Gc,G),1)\n",
        "T,y_cl_step = control.step_response(GHcl,T)\n",
        "plt.plot(T,y_cl_step)"
      ]
    },
    {
      "cell_type": "code",
      "execution_count": null,
      "metadata": {
        "id": "ePZHu5gjA_AQ",
        "outputId": "fa8443ec-1295-46a6-fb90-81b62fabb2ef"
      },
      "outputs": [
        {
          "name": "stdout",
          "output_type": "stream",
          "text": [
            "\n",
            "21 s^2 + 4.2 s + 0.21\n",
            "---------------------\n",
            "          s\n",
            "\n",
            "[-0.1+1.19267483e-09j -0.1-1.19267483e-09j]\n",
            "[0.]\n"
          ]
        },
        {
          "data": {
            "text/plain": [
              "[<matplotlib.lines.Line2D at 0x7fdfe8d66350>]"
            ]
          },
          "execution_count": 13,
          "metadata": {},
          "output_type": "execute_result"
        },
        {
          "data": {
            "image/png": "[encoded data removed]",
            "text/plain": [
              "<matplotlib.figure.Figure at 0x7fdfe8dec150>"
            ]
          },
          "metadata": {},
          "output_type": "display_data"
        }
      ],
      "source": [
        "Gc_zeros_tunned = control.tf([1,0.1],[1])\n",
        "Gc_Kp_integrator = control.tf([0.5*Kp],[1,0])\n",
        "Gc = control.series(control.series(Gc_zeros_tunned,Gc_zeros_tunned),Gc_Kp_integrator)\n",
        "print(Gc)\n",
        "print(Gc.zero())\n",
        "print(Gc.pole())\n",
        "\n",
        "GHcl = control.feedback(control.series(Gc,G),1)\n",
        "T,y_cl_step = control.step_response(GHcl,T)\n",
        "plt.plot(T,y_cl_step)"
      ]
    },
    {
      "cell_type": "code",
      "execution_count": null,
      "metadata": {
        "id": "md9XepMYA_AT"
      },
      "outputs": [],
      "source": [
        "print Kp"
      ]
    }
  ],
  "metadata": {
    "kernelspec": {
      "display_name": "Python 2",
      "language": "python",
      "name": "python2"
    },
    "language_info": {
      "codemirror_mode": {
        "name": "ipython",
        "version": 2
      },
      "file_extension": ".py",
      "mimetype": "text/x-python",
      "name": "python",
      "nbconvert_exporter": "python",
      "pygments_lexer": "ipython2",
      "version": "2.7.12"
    },
    "colab": {
      "provenance": [],
      "include_colab_link": true
    }
  },
  "nbformat": 4,
  "nbformat_minor": 0
}